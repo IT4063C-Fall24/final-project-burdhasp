{
 "cells": [
  {
   "attachments": {},
   "cell_type": "markdown",
   "metadata": {},
   "source": [
    "# {Project Title}📝\n",
    "\n",
    "![Banner](./assets/banner.jpeg)"
   ]
  },
  {
   "attachments": {},
   "cell_type": "markdown",
   "metadata": {},
   "source": [
    "## Topic\n",
    "*What problem are you (or your stakeholder) trying to address?*\n",
    "📝 <!-- Answer Below -->\n",
    "\n",
    "The project aims to address the issue of digital inequality, focusing on the gap between communities with access to reliable internet and digital technologies and those without. This topic is crucial due to the increasing reliance on digital platforms across various sectors like education, healthcare, and employment. The pandemic has exacerbated the divide, making it more urgent to find solutions for underprivileged communities at risk of exclusion."
   ]
  },
  {
   "attachments": {},
   "cell_type": "markdown",
   "metadata": {},
   "source": [
    "## Project Question\n",
    "*What specific question are you seeking to answer with this project?*\n",
    "*This is not the same as the questions you ask to limit the scope of the project.*\n",
    "📝 <!-- Answer Below -->\n",
    "\n",
    "1. What are the primary factors contributing to digital inequality?\n",
    "\n",
    "    Aim: To identify barriers such as geographic location, socioeconomic status, and availability of infrastructure.\n",
    "\n",
    "2. Which demographics or communities are most affected by digital inequality?\n",
    "\n",
    "    Aim: To uncover patterns and identify the most impacted regions, age groups, income brackets, or ethnicities.\n",
    "\n",
    "3. How can technological interventions or policies help bridge the digital divide?\n",
    "\n",
    "    Aim: To explore potential solutions like affordable internet access, public Wi-Fi initiatives, or community training programs and their effectiveness."
   ]
  },
  {
   "attachments": {},
   "cell_type": "markdown",
   "metadata": {},
   "source": [
    "## What would an answer look like?\n",
    "*What is your hypothesized answer to your question?*\n",
    "📝 <!-- Answer Below -->\n",
    "\n",
    "1. My hypothesized answer to this question would identify the main drivers of digital inequality, such as geographic barriers, socioeconomic factors, and disparities in infrastructure. The aim would be to detail how these factors create unequal access to reliable internet and digital technologies.\n",
    "\n",
    "2. Here, my hypothesized answer would outline the specific communities impacted by digital inequality. It could describe patterns such as rural versus urban access, differences based on income, age, or race, and how these disparities affect access to opportunities like education and healthcare.\n",
    "\n",
    "3. My hypothesized response to this question would explore potential solutions and interventions to address digital inequality. It would discuss how policy changes, affordable internet programs, community training, and public Wi-Fi access can contribute to narrowing the digital gap and ensuring more equitable access to digital resources."
   ]
  },
  {
   "attachments": {},
   "cell_type": "markdown",
   "metadata": {},
   "source": [
    "## Data Sources\n",
    "*What 3 data sources have you identified for this project?*\n",
    "*How are you going to relate these datasets?*\n",
    "📝 <!-- Answer Below -->\n",
    "1. Pew Research Center (https://www.pewresearch.org/topic/internet-technology/technology-policy-issues/digital-divide/): Provides datasets on technology adoption, internet usage trends, and demographic information.\n",
    "\n",
    "2. U.S. Census - American Community Survey (https://data.census.gov/all/tables?q=internet%20access): Provides demographic data, which can be combined with access to internet and technology usage statistics to form a more comprehensive picture.\n",
    "\n",
    "3. FCC Broadband Map (https://broadbandmap.fcc.gov/): Contains U.S.-based broadband access and availability data, which can be tied to specific regions or zip codes. \n"
   ]
  },
  {
   "attachments": {},
   "cell_type": "markdown",
   "metadata": {},
   "source": [
    "## Approach and Analysis\n",
    "*What is your approach to answering your project question?*\n",
    "*How will you use the identified data to answer your project question?*\n",
    "📝 <!-- Start Discussing the project here; you can add as many code cells as you need -->\n",
    "\n",
    "To address my project questions, the approach will involve multiple steps of data gathering, cleaning, and analysis. Each dataset will be loaded into a Python environment using libraries like Pandas for data manipulation, Matplotlib and Seaborn for visualization, and Geopandas if I need to add geographic mapping.\n",
    "\n",
    "Data Collection and Preprocessing:\n",
    "    The identified datasets from Pew Research, World Bank, FCC Broadband Map, and the U.S. Census will be imported. Each dataset will be cleaned to handle missing values, ensure uniform data formats, and standardize units across datasets. Key columns such as geographic location, demographic information, and internet access indicators will be retained for further analysis.\n",
    "\n",
    "Exploratory Data Analysis (EDA):\n",
    "    An initial exploratory analysis will be conducted to understand the data distribution and identify any patterns or correlations between variables. Visualizations like histograms, boxplots, and scatter plots will help reveal the relationships between factors like income level, education, and internet access. This will set the stage for more detailed analysis.\n",
    "\n",
    "Combining Datasets for Analysis:\n",
    "    The datasets will be merged based on common fields like geographic location (e.g., state, county) and demographic indicators. This integrated dataset will allow for a comprehensive view of how different variables contribute to digital inequality.\n",
    "\n",
    "Analysis and Visualization:\n",
    "    Using the combined dataset, analyses such as correlation tests, regression models, and clustering algorithms will be performed to answer the research questions. Visualizations like geographic heatmaps (to show regional disparities) and bar charts (to highlight disparities across demographics) will be created to present findings in a clear and digestible format.\n",
    "\n",
    "Drawing Insights and Recommendations:\n",
    "    The final step will be interpreting the results to draw insights on which factors are the most significant contributors to digital inequality and how specific demographics are affected. Based on these findings, actionable recommendations for policies or tech interventions to bridge the digital divide will be formulated."
   ]
  },
  {
   "cell_type": "code",
   "execution_count": 1,
   "metadata": {},
   "outputs": [],
   "source": [
    "# Start your code here"
   ]
  },
  {
   "attachments": {},
   "cell_type": "markdown",
   "metadata": {},
   "source": [
    "## Resources and References\n",
    "*What resources and references have you used for this project?*\n",
    "📝 <!-- Answer Below -->"
   ]
  },
  {
   "cell_type": "code",
   "execution_count": 2,
   "metadata": {},
   "outputs": [
    {
     "name": "stdout",
     "output_type": "stream",
     "text": [
      "[NbConvertApp] Converting notebook source.ipynb to python\n",
      "[NbConvertApp] Writing 1271 bytes to source.py\n"
     ]
    }
   ],
   "source": [
    "# ⚠️ Make sure you run this cell at the end of your notebook before every submission!\n",
    "!jupyter nbconvert --to python source.ipynb"
   ]
  }
 ],
 "metadata": {
  "kernelspec": {
   "display_name": "Final-Project-Template-unx06iZ2",
   "language": "python",
   "name": "python3"
  },
  "language_info": {
   "codemirror_mode": {
    "name": "ipython",
    "version": 3
   },
   "file_extension": ".py",
   "mimetype": "text/x-python",
   "name": "python",
   "nbconvert_exporter": "python",
   "pygments_lexer": "ipython3",
   "version": "3.11.1"
  },
  "orig_nbformat": 4,
  "vscode": {
   "interpreter": {
    "hash": "8f59090b806211711d8ea6da25ee5b1ccb272a75a21b9536283520350d8dfda7"
   }
  }
 },
 "nbformat": 4,
 "nbformat_minor": 2
}
